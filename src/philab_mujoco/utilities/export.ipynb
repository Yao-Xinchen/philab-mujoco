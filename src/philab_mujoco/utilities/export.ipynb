{
 "cells": [
  {
   "cell_type": "markdown",
   "metadata": {},
   "source": [
    "# JaX Flax --> ONNX\n",
    "\n",
    "This notebook converts brax MLP networks to an ONNX checkpoint."
   ]
  },
  {
   "cell_type": "code",
   "execution_count": 1,
   "metadata": {},
   "outputs": [],
   "source": [
    "ckpt_path = \"/home/xinchen/Dev/philab-mujoco/logs/TronPfJoystick-20250728-013742\"\n",
    "env_name = \"TronPfJoystick\"\n",
    "\n",
    "# ckpt_path = \"/home/xinchen/Dev/philab-mujoco/logs/TronSfJoystick-20250722-055050\"\n",
    "# env_name = \"TronSfJoystick\""
   ]
  },
  {
   "cell_type": "code",
   "execution_count": 2,
   "metadata": {},
   "outputs": [],
   "source": [
    "import os\n",
    "\n",
    "os.environ[\"JAX_DEFAULT_MATMUL_PRECISION\"] = \"high\"\n",
    "os.environ[\"PYGLFW_LIBRARY_VARIANT\"] = \"x11\"\n"
   ]
  },
  {
   "cell_type": "code",
   "execution_count": 3,
   "metadata": {},
   "outputs": [
    {
     "name": "stderr",
     "output_type": "stream",
     "text": [
      "2025-07-28 04:01:04.821281: E external/local_xla/xla/stream_executor/cuda/cuda_fft.cc:467] Unable to register cuFFT factory: Attempting to register factory for plugin cuFFT when one has already been registered\n",
      "WARNING: All log messages before absl::InitializeLog() is called are written to STDERR\n",
      "E0000 00:00:1753693264.828905  163675 cuda_dnn.cc:8579] Unable to register cuDNN factory: Attempting to register factory for plugin cuDNN when one has already been registered\n",
      "E0000 00:00:1753693264.831612  163675 cuda_blas.cc:1407] Unable to register cuBLAS factory: Attempting to register factory for plugin cuBLAS when one has already been registered\n",
      "W0000 00:00:1753693264.838253  163675 computation_placer.cc:177] computation placer already registered. Please check linkage and avoid linking the same target more than once.\n",
      "W0000 00:00:1753693264.838270  163675 computation_placer.cc:177] computation placer already registered. Please check linkage and avoid linking the same target more than once.\n",
      "W0000 00:00:1753693264.838271  163675 computation_placer.cc:177] computation placer already registered. Please check linkage and avoid linking the same target more than once.\n",
      "W0000 00:00:1753693264.838272  163675 computation_placer.cc:177] computation placer already registered. Please check linkage and avoid linking the same target more than once.\n"
     ]
    }
   ],
   "source": [
    "from brax.training.agents.ppo import networks as ppo_networks\n",
    "from philab_mujoco import locomotion\n",
    "from philab_mujoco import train_params\n",
    "import functools\n",
    "import pickle\n",
    "import jax.numpy as jp\n",
    "import jax\n",
    "import tf2onnx\n",
    "import tensorflow as tf\n",
    "from keras import layers\n",
    "import onnxruntime as rt\n",
    "from brax.training.acme import running_statistics"
   ]
  },
  {
   "cell_type": "code",
   "execution_count": 4,
   "metadata": {},
   "outputs": [
    {
     "name": "stderr",
     "output_type": "stream",
     "text": [
      "W0000 00:00:1753693266.475947  163675 gpu_device.cc:2430] TensorFlow was not built with CUDA kernel binaries compatible with compute capability 12.0. CUDA kernels will be jit-compiled from PTX, which could take 30 minutes or longer.\n"
     ]
    }
   ],
   "source": [
    "tf.config.set_visible_devices([], 'GPU')"
   ]
  },
  {
   "cell_type": "code",
   "execution_count": 5,
   "metadata": {},
   "outputs": [],
   "source": [
    "# ppo_params = locomotion_params.brax_ppo_config(env_name)\n",
    "ppo_params = train_params.brax_ppo_config(env_name)"
   ]
  },
  {
   "cell_type": "code",
   "execution_count": 6,
   "metadata": {},
   "outputs": [],
   "source": [
    "def identity_observation_preprocessor(observation, preprocessor_params):\n",
    "  del preprocessor_params\n",
    "  return observation\n",
    "\n",
    "network_factory=functools.partial(\n",
    "  ppo_networks.make_ppo_networks,\n",
    "  **ppo_params.network_factory,\n",
    "  # We need to explicitly call the normalization function here since only the brax\n",
    "  # PPO train.py script creates it if normalize_observations is True.\n",
    "  preprocess_observations_fn=running_statistics.normalize,\n",
    ")"
   ]
  },
  {
   "cell_type": "code",
   "execution_count": 7,
   "metadata": {},
   "outputs": [],
   "source": [
    "# env_cfg = locomotion.get_default_config(env_name)\n",
    "# env = locomotion.load(env_name, config=env_cfg)\n",
    "env_cfg = locomotion.get_default_config(env_name)\n",
    "env = locomotion.load(env_name, config=env_cfg)"
   ]
  },
  {
   "cell_type": "code",
   "execution_count": 8,
   "metadata": {},
   "outputs": [
    {
     "name": "stdout",
     "output_type": "stream",
     "text": [
      "Observation size: {'privileged_state': (76,), 'state': (31,), 'state_history': (310,)}\n",
      "Action size: 6\n"
     ]
    }
   ],
   "source": [
    "obs_size = env.observation_size\n",
    "act_size = env.action_size\n",
    "# print(obs_size, act_size)\n",
    "\n",
    "print(f\"Observation size: {obs_size}\")\n",
    "print(f\"Action size: {act_size}\")"
   ]
  },
  {
   "cell_type": "code",
   "execution_count": 9,
   "metadata": {},
   "outputs": [],
   "source": [
    "ppo_network = network_factory(obs_size, act_size)"
   ]
  },
  {
   "cell_type": "code",
   "execution_count": 10,
   "metadata": {},
   "outputs": [
    {
     "name": "stdout",
     "output_type": "stream",
     "text": [
      "dict_keys(['normalizer_params', 'policy_params', 'value_params'])\n"
     ]
    }
   ],
   "source": [
    "ckpt_path = ckpt_path + \"/params.pkl\"\n",
    "\n",
    "with open(ckpt_path, 'rb') as f:\n",
    "    params = pickle.load(f)\n",
    "print(params.keys())\n",
    "\n",
    "# Save ONNX to the checkpoint directory\n",
    "output_path = os.path.join(os.path.dirname(ckpt_path), \"policy.onnx\")"
   ]
  },
  {
   "cell_type": "code",
   "execution_count": 11,
   "metadata": {},
   "outputs": [],
   "source": [
    "params = (params[\"normalizer_params\"], params[\"policy_params\"])"
   ]
  },
  {
   "cell_type": "code",
   "execution_count": 12,
   "metadata": {},
   "outputs": [],
   "source": [
    "make_inference_fn = ppo_networks.make_inference_fn(ppo_network)\n",
    "inference_fn = make_inference_fn(params, deterministic=True)"
   ]
  },
  {
   "cell_type": "code",
   "execution_count": 13,
   "metadata": {},
   "outputs": [],
   "source": [
    "class EMLP(tf.keras.Model):\n",
    "    def __init__(\n",
    "        self,\n",
    "        layer_sizes,\n",
    "        encoder_layer_sizes,\n",
    "        activation=tf.nn.relu,\n",
    "        kernel_init=\"lecun_uniform\",\n",
    "        activate_final=False,\n",
    "        bias=True,\n",
    "        layer_norm=False,\n",
    "        mean_std=None,\n",
    "        encoder_mean_std=None,\n",
    "    ):\n",
    "        super().__init__()\n",
    "\n",
    "        self.layer_sizes = layer_sizes\n",
    "        self.encoder_layer_sizes = encoder_layer_sizes\n",
    "        self.activation = activation\n",
    "        self.kernel_init = kernel_init\n",
    "        self.activate_final = activate_final\n",
    "        self.bias = bias\n",
    "        self.layer_norm = layer_norm\n",
    "\n",
    "        if mean_std is not None:\n",
    "            self.mean = tf.Variable(mean_std[0], trainable=False, dtype=tf.float32)\n",
    "            self.std = tf.Variable(mean_std[1], trainable=False, dtype=tf.float32)\n",
    "        else:\n",
    "            self.mean = None\n",
    "            self.std = None\n",
    "\n",
    "        if encoder_mean_std is not None:\n",
    "            self.encoder_mean = tf.Variable(encoder_mean_std[0], trainable=False, dtype=tf.float32)\n",
    "            self.encoder_std = tf.Variable(encoder_mean_std[1], trainable=False, dtype=tf.float32)\n",
    "        else:\n",
    "            self.encoder_mean = None\n",
    "            self.encoder_std = None\n",
    "\n",
    "        self.mlp_block = tf.keras.Sequential(name=\"MLP_1\")\n",
    "        for i, size in enumerate(self.layer_sizes):\n",
    "            dense_layer = layers.Dense(\n",
    "                size,\n",
    "                activation=self.activation,\n",
    "                kernel_initializer=self.kernel_init,\n",
    "                name=f\"hidden_{i}\",\n",
    "                use_bias=self.bias,\n",
    "            )\n",
    "            self.mlp_block.add(dense_layer)\n",
    "            if self.layer_norm:\n",
    "                self.mlp_block.add(layers.LayerNormalization(name=f\"layer_norm_{i}\"))\n",
    "\n",
    "        self.encoder_block = tf.keras.Sequential(name=\"MLP_0\")\n",
    "        for i, size in enumerate(self.encoder_layer_sizes):\n",
    "            dense_layer = layers.Dense(\n",
    "                size,\n",
    "                activation=self.activation,\n",
    "                kernel_initializer=self.kernel_init,\n",
    "                name=f\"hidden_{i}\",\n",
    "                use_bias=self.bias,\n",
    "            )\n",
    "            self.encoder_block.add(dense_layer)\n",
    "            if self.layer_norm:\n",
    "                self.encoder_block.add(layers.LayerNormalization(name=f\"layer_norm_{i}\"))\n",
    "\n",
    "        if not self.activate_final and self.mlp_block.layers:\n",
    "            if hasattr(self.mlp_block.layers[-1], 'activation') and self.mlp_block.layers[-1].activation is not None:\n",
    "                self.mlp_block.layers[-1].activation = None\n",
    "\n",
    "        # if not self.activate_final and self.encoder_block.layers:\n",
    "        #     if hasattr(self.encoder_block.layers[-1], 'activation') and self.encoder_block.layers[-1].activation is not None:\n",
    "        #         self.encoder_block.layers[-1].activation = None\n",
    "\n",
    "        self.submodules = [self.encoder_block, self.mlp_block]\n",
    "\n",
    "    def call(self, inputs):\n",
    "        if isinstance(inputs, list):\n",
    "            main_input, encoder_input = inputs\n",
    "        else:\n",
    "            raise ValueError(\"Input should be a list containing main input and encoder input.\")\n",
    "\n",
    "        if self.mean is not None and self.std is not None:\n",
    "            print(self.mean.shape, self.std.shape)\n",
    "            main_input = (main_input - self.mean) / self.std\n",
    "\n",
    "        if self.encoder_mean is not None and self.encoder_std is not None:\n",
    "            print(self.encoder_mean.shape, self.encoder_std.shape)\n",
    "            encoder_input = (encoder_input - self.encoder_mean) / self.encoder_std\n",
    "\n",
    "        encoded = self.encoder_block(encoder_input)\n",
    "\n",
    "        logits = self.mlp_block(\n",
    "            tf.concat([main_input, encoded], axis=-1)\n",
    "        )\n",
    "        loc, _ = tf.split(logits, 2, axis=-1)\n",
    "        return tf.tanh(loc)\n",
    "\n",
    "def make_policy_network(\n",
    "    param_size,\n",
    "    mean_std,\n",
    "    encoder_mean_std,\n",
    "    hidden_layer_sizes,\n",
    "    encoder_hidden_layer_sizes,\n",
    "    activation=tf.nn.relu,\n",
    "    kernel_init=\"lecun_uniform\",\n",
    "    layer_norm=False,\n",
    "):\n",
    "    policy_network = EMLP(\n",
    "        layer_sizes=list(hidden_layer_sizes) + [param_size],\n",
    "        encoder_layer_sizes=list(encoder_hidden_layer_sizes),\n",
    "        activation=activation,\n",
    "        kernel_init=kernel_init,\n",
    "        layer_norm=layer_norm,\n",
    "        mean_std=mean_std,\n",
    "        encoder_mean_std=encoder_mean_std,\n",
    "    )\n",
    "    return policy_network"
   ]
  },
  {
   "cell_type": "code",
   "execution_count": 14,
   "metadata": {},
   "outputs": [],
   "source": [
    "mean = params[0].mean[\"state\"]\n",
    "std = params[0].std[\"state\"]\n",
    "mean_std = (tf.convert_to_tensor(mean), tf.convert_to_tensor(std))\n",
    "\n",
    "encoder_mean = params[0].mean[\"state_history\"]\n",
    "encoder_std = params[0].std[\"state_history\"]\n",
    "encoder_mean_std = (tf.convert_to_tensor(encoder_mean), tf.convert_to_tensor(encoder_std))\n",
    "\n",
    "tf_policy_network = make_policy_network(\n",
    "    param_size=act_size * 2,\n",
    "    mean_std=mean_std,\n",
    "    encoder_mean_std=encoder_mean_std,\n",
    "    hidden_layer_sizes=ppo_params.network_factory.policy_hidden_layer_sizes,\n",
    "    encoder_hidden_layer_sizes=ppo_params.network_factory.encoder_hidden_layer_sizes,\n",
    "    activation=tf.nn.swish,\n",
    ")"
   ]
  },
  {
   "cell_type": "code",
   "execution_count": 15,
   "metadata": {},
   "outputs": [
    {
     "name": "stdout",
     "output_type": "stream",
     "text": [
      "(31,) (31,)\n",
      "(310,) (310,)\n",
      "(31,) (31,)\n",
      "(310,) (310,)\n",
      "(1, 6)\n"
     ]
    }
   ],
   "source": [
    "example_input = tf.zeros((1, obs_size[\"state\"][0]))\n",
    "example_encoder_input = tf.zeros((1, obs_size[\"state_history\"][0]))\n",
    "example_output = tf_policy_network([example_input, example_encoder_input])\n",
    "print(example_output.shape)"
   ]
  },
  {
   "cell_type": "code",
   "execution_count": 16,
   "metadata": {},
   "outputs": [],
   "source": [
    "import numpy as np\n",
    "import tensorflow as tf\n",
    "\n",
    "def transfer_weights(jax_params, tf_model):\n",
    "    \"\"\"\n",
    "    Transfer weights from a JAX parameter dictionary to the TensorFlow model.\n",
    "\n",
    "    Parameters:\n",
    "    - jax_params: dict\n",
    "      Nested dictionary with structure {block_name: {layer_name: {params}}}.\n",
    "      For example:\n",
    "      {\n",
    "        'CNN_0': {\n",
    "          'Conv_0': {'kernel': np.ndarray},\n",
    "          'Conv_1': {'kernel': np.ndarray},\n",
    "          'Conv_2': {'kernel': np.ndarray},\n",
    "        },\n",
    "        'MLP_0': {\n",
    "          'hidden_0': {'kernel': np.ndarray, 'bias': np.ndarray},\n",
    "          'hidden_1': {'kernel': np.ndarray, 'bias': np.ndarray},\n",
    "          'hidden_2': {'kernel': np.ndarray, 'bias': np.ndarray},\n",
    "        }\n",
    "      }\n",
    "\n",
    "    - tf_model: tf.keras.Model\n",
    "      An instance of the adapted VisionMLP model containing named submodules and layers.\n",
    "    \"\"\"\n",
    "    mlp0_params = jax_params.get('MLP_0', {}) # encoder\n",
    "    mlp1_params = jax_params.get('MLP_1', {}) # policy\n",
    "\n",
    "    print(f\"Transferring encoder weights:\")\n",
    "    for layer_name, layer_params in mlp0_params.items():\n",
    "        try:\n",
    "            tf_layer = tf_model.get_layer(\"MLP_0\").get_layer(name=layer_name)\n",
    "        except ValueError:\n",
    "            print(f\"Layer {layer_name} not found in TensorFlow model.\")\n",
    "            continue\n",
    "        if isinstance(tf_layer, tf.keras.layers.Dense):\n",
    "            kernel = np.array(layer_params['kernel'])\n",
    "            bias = np.array(layer_params['bias'])\n",
    "            print(f\"Transferring Dense layer {layer_name}, kernel shape {kernel.shape}, bias shape {bias.shape}\")\n",
    "            tf_layer.set_weights([kernel, bias])\n",
    "        else:\n",
    "            print(f\"Unhandled layer type in {layer_name}: {type(tf_layer)}\")\n",
    "\n",
    "    print(f\"Transferring policy weights:\")\n",
    "    for layer_name, layer_params in mlp1_params.items():\n",
    "        try:\n",
    "            tf_layer = tf_model.get_layer(\"MLP_1\").get_layer(name=layer_name)\n",
    "        except ValueError:\n",
    "            print(f\"Layer {layer_name} not found in TensorFlow model.\")\n",
    "            continue\n",
    "        if isinstance(tf_layer, tf.keras.layers.Dense):\n",
    "            kernel = np.array(layer_params['kernel'])\n",
    "            bias = np.array(layer_params['bias'])\n",
    "            print(f\"Transferring Dense layer {layer_name}, kernel shape {kernel.shape}, bias shape {bias.shape}\")\n",
    "            tf_layer.set_weights([kernel, bias])\n",
    "        else:\n",
    "            print(f\"Unhandled layer type in {layer_name}: {type(tf_layer)}\")\n",
    "\n",
    "    print(\"Weights transferred successfully.\")"
   ]
  },
  {
   "cell_type": "code",
   "execution_count": 17,
   "metadata": {},
   "outputs": [
    {
     "name": "stdout",
     "output_type": "stream",
     "text": [
      "Transferring encoder weights:\n",
      "Transferring Dense layer hidden_0, kernel shape (310, 128), bias shape (128,)\n",
      "Transferring Dense layer hidden_1, kernel shape (128, 32), bias shape (32,)\n",
      "Transferring Dense layer hidden_2, kernel shape (32, 8), bias shape (8,)\n",
      "Transferring policy weights:\n",
      "Transferring Dense layer hidden_0, kernel shape (39, 512), bias shape (512,)\n",
      "Transferring Dense layer hidden_1, kernel shape (512, 256), bias shape (256,)\n",
      "Transferring Dense layer hidden_2, kernel shape (256, 128), bias shape (128,)\n",
      "Transferring Dense layer hidden_3, kernel shape (128, 12), bias shape (12,)\n",
      "Weights transferred successfully.\n"
     ]
    }
   ],
   "source": [
    "transfer_weights(params[1]['params'], tf_policy_network)"
   ]
  },
  {
   "cell_type": "code",
   "execution_count": 18,
   "metadata": {},
   "outputs": [],
   "source": [
    "obs_test = np.ones((1, obs_size[\"state\"][0]), dtype=np.float32) * .1\n",
    "obs_history_test = np.ones((1, obs_size[\"state_history\"][0]), dtype=np.float32) * .1"
   ]
  },
  {
   "cell_type": "code",
   "execution_count": 19,
   "metadata": {},
   "outputs": [
    {
     "name": "stdout",
     "output_type": "stream",
     "text": [
      "(31,) (31,)\n",
      "(310,) (310,)\n",
      "Tensorflow prediction: [-0.15433222  0.14165966  0.4075409   0.07962049  0.15174595  0.6009094 ]\n",
      "(31,) (31,)\n",
      "(310,) (310,)\n"
     ]
    },
    {
     "name": "stderr",
     "output_type": "stream",
     "text": [
      "I0000 00:00:1753693268.887170  163675 devices.cc:67] Number of eligible GPUs (core count >= 8, compute capability >= 0.0): 1\n",
      "WARNING: All log messages before absl::InitializeLog() is called are written to STDERR\n",
      "I0000 00:00:1753693268.887298  163675 single_machine.cc:374] Starting new session\n",
      "W0000 00:00:1753693268.889796  163675 gpu_device.cc:2430] TensorFlow was not built with CUDA kernel binaries compatible with compute capability 12.0. CUDA kernels will be jit-compiled from PTX, which could take 30 minutes or longer.\n",
      "I0000 00:00:1753693268.895194  163675 gpu_device.cc:2019] Created device /job:localhost/replica:0/task:0/device:GPU:0 with 1818 MB memory:  -> device: 0, name: NVIDIA GeForce RTX 5080, pci bus id: 0000:01:00.0, compute capability: 12.0\n",
      "I0000 00:00:1753693268.962492  163675 devices.cc:67] Number of eligible GPUs (core count >= 8, compute capability >= 0.0): 1\n",
      "I0000 00:00:1753693268.962618  163675 single_machine.cc:374] Starting new session\n",
      "W0000 00:00:1753693268.965248  163675 gpu_device.cc:2430] TensorFlow was not built with CUDA kernel binaries compatible with compute capability 12.0. CUDA kernels will be jit-compiled from PTX, which could take 30 minutes or longer.\n",
      "I0000 00:00:1753693268.967022  163675 gpu_device.cc:2019] Created device /job:localhost/replica:0/task:0/device:GPU:0 with 1818 MB memory:  -> device: 0, name: NVIDIA GeForce RTX 5080, pci bus id: 0000:01:00.0, compute capability: 12.0\n",
      "ERROR:tf2onnx.tfonnx:rewriter <function rewrite_constant_fold at 0x725baae03a60>: exception `np.cast` was removed in the NumPy 2.0 release. Use `np.asarray(arr, dtype=dtype)` instead.\n"
     ]
    }
   ],
   "source": [
    "# Example inputs for the model\n",
    "test_input = [obs_test, obs_history_test]\n",
    "\n",
    "# Define the TensorFlow input signature\n",
    "spec = [tf.TensorSpec(shape=(1, obs_size[\"state\"][0]), dtype=tf.float32, name=\"obs\"),\n",
    "        tf.TensorSpec(shape=(1, obs_size[\"state_history\"][0]), dtype=tf.float32, name=\"obs_history\")]\n",
    "\n",
    "tensorflow_pred = tf_policy_network(test_input)[0]\n",
    "# Build the model by calling it with example data\n",
    "print(f\"Tensorflow prediction: {tensorflow_pred}\")\n",
    "\n",
    "tf_policy_network.output_names = ['action']\n",
    "\n",
    "# opset 11 matches isaac lab.\n",
    "model_proto, _ = tf2onnx.convert.from_keras(tf_policy_network, input_signature=spec, opset=11, output_path=output_path)\n",
    "\n",
    "# Run inference with ONNX Runtime\n",
    "output_names = ['action']\n",
    "providers = ['CPUExecutionProvider']\n",
    "m = rt.InferenceSession(output_path, providers=providers)"
   ]
  },
  {
   "cell_type": "code",
   "execution_count": 20,
   "metadata": {},
   "outputs": [
    {
     "name": "stdout",
     "output_type": "stream",
     "text": [
      "ONNX prediction: [-0.15433191  0.14165932  0.40754128  0.07962064  0.15174563  0.600909  ]\n"
     ]
    }
   ],
   "source": [
    "onnx_input = {\n",
    "    'obs': obs_test,\n",
    "    'obs_history': obs_history_test,\n",
    "}\n",
    "# Prepare inputs for ONNX Runtime\n",
    "onnx_pred = m.run(output_names, onnx_input)[0][0]\n",
    "\n",
    "print(\"ONNX prediction:\", onnx_pred)"
   ]
  },
  {
   "cell_type": "code",
   "execution_count": 21,
   "metadata": {},
   "outputs": [
    {
     "name": "stdout",
     "output_type": "stream",
     "text": [
      "[-0.15433234  0.14165986  0.4075419   0.07962012  0.15174612  0.60091   ]\n"
     ]
    }
   ],
   "source": [
    "test_input = {\n",
    "    'state': jp.array(obs_test),\n",
    "    'state_history': jp.array(obs_history_test),\n",
    "    'privileged_state': jp.zeros(obs_size[\"privileged_state\"])\n",
    "}\n",
    "jax_pred, _ = inference_fn(test_input, jax.random.PRNGKey(0))\n",
    "jax_pred = jax_pred[0]\n",
    "print(jax_pred)"
   ]
  },
  {
   "cell_type": "code",
   "execution_count": 22,
   "metadata": {},
   "outputs": [
    {
     "name": "stdout",
     "output_type": "stream",
     "text": [
      "(6,)\n",
      "(6,)\n",
      "(6,)\n"
     ]
    },
    {
     "data": {
      "image/png": "[encoded data removed]",
      "text/plain": [
       "<Figure size 640x480 with 1 Axes>"
      ]
     },
     "metadata": {},
     "output_type": "display_data"
    }
   ],
   "source": [
    "import matplotlib.pyplot as plt\n",
    "print(onnx_pred.shape)\n",
    "print(tensorflow_pred.shape)\n",
    "print(jax_pred.shape)\n",
    "plt.plot(onnx_pred, label='onnx')\n",
    "plt.plot(tensorflow_pred, label='tensorflow')\n",
    "plt.plot(jax_pred, label='jax')\n",
    "plt.legend()\n",
    "plt.show()"
   ]
  },
  {
   "cell_type": "code",
   "execution_count": 23,
   "metadata": {},
   "outputs": [
    {
     "name": "stdout",
     "output_type": "stream",
     "text": [
      "Adding model name: TronPfJoystick-20250728-013742\n",
      "Model name 'TronPfJoystick-20250728-013742' added to ONNX file\n"
     ]
    }
   ],
   "source": [
    "import onnx\n",
    "\n",
    "# Extract checkpoint name from path\n",
    "checkpoint_name = os.path.basename(os.path.dirname(ckpt_path))\n",
    "print(f\"Adding model name: {checkpoint_name}\")\n",
    "\n",
    "# Load the ONNX model\n",
    "model = onnx.load(output_path)\n",
    "\n",
    "# Add the checkpoint name as model metadata\n",
    "model.metadata_props.append(onnx.StringStringEntryProto(key=\"name\", value=checkpoint_name))\n",
    "model.doc_string = checkpoint_name\n",
    "\n",
    "# Save the updated model\n",
    "onnx.save(model, output_path)\n",
    "print(f\"Model name '{checkpoint_name}' added to ONNX file\")"
   ]
  },
  {
   "cell_type": "code",
   "execution_count": null,
   "metadata": {},
   "outputs": [],
   "source": []
  }
 ],
 "metadata": {
  "kernelspec": {
   "display_name": "mujoco",
   "language": "python",
   "name": "python3"
  },
  "language_info": {
   "codemirror_mode": {
    "name": "ipython",
    "version": 3
   },
   "file_extension": ".py",
   "mimetype": "text/x-python",
   "name": "python",
   "nbconvert_exporter": "python",
   "pygments_lexer": "ipython3",
   "version": "3.11.13"
  }
 },
 "nbformat": 4,
 "nbformat_minor": 2
}
