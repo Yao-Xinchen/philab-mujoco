{
 "cells": [
  {
   "cell_type": "markdown",
   "metadata": {},
   "source": [
    "# JaX Flax --> ONNX\n",
    "\n",
    "This notebook converts brax MLP networks to an ONNX checkpoint."
   ]
  },
  {
   "cell_type": "code",
   "execution_count": 1,
   "metadata": {},
   "outputs": [],
   "source": [
    "ckpt_path = \"/home/xinchen/Dev/philab-mujoco/logs/TronPfJoystick-20250725-053551\"\n",
    "env_name = \"TronPfJoystick\"\n",
    "\n",
    "# ckpt_path = \"/home/xinchen/Dev/philab-mujoco/logs/TronSfJoystick-20250722-055050\"\n",
    "# env_name = \"TronSfJoystick\""
   ]
  },
  {
   "cell_type": "code",
   "execution_count": 2,
   "metadata": {},
   "outputs": [],
   "source": [
    "import os\n",
    "\n",
    "os.environ[\"JAX_DEFAULT_MATMUL_PRECISION\"] = \"high\"\n",
    "os.environ[\"PYGLFW_LIBRARY_VARIANT\"] = \"x11\"\n"
   ]
  },
  {
   "cell_type": "code",
   "execution_count": 3,
   "metadata": {},
   "outputs": [
    {
     "name": "stderr",
     "output_type": "stream",
     "text": [
      "2025-07-25 07:14:14.727598: E external/local_xla/xla/stream_executor/cuda/cuda_fft.cc:467] Unable to register cuFFT factory: Attempting to register factory for plugin cuFFT when one has already been registered\n",
      "WARNING: All log messages before absl::InitializeLog() is called are written to STDERR\n",
      "E0000 00:00:1753445654.735742  161752 cuda_dnn.cc:8579] Unable to register cuDNN factory: Attempting to register factory for plugin cuDNN when one has already been registered\n",
      "E0000 00:00:1753445654.738126  161752 cuda_blas.cc:1407] Unable to register cuBLAS factory: Attempting to register factory for plugin cuBLAS when one has already been registered\n",
      "W0000 00:00:1753445654.744274  161752 computation_placer.cc:177] computation placer already registered. Please check linkage and avoid linking the same target more than once.\n",
      "W0000 00:00:1753445654.744286  161752 computation_placer.cc:177] computation placer already registered. Please check linkage and avoid linking the same target more than once.\n",
      "W0000 00:00:1753445654.744287  161752 computation_placer.cc:177] computation placer already registered. Please check linkage and avoid linking the same target more than once.\n",
      "W0000 00:00:1753445654.744287  161752 computation_placer.cc:177] computation placer already registered. Please check linkage and avoid linking the same target more than once.\n"
     ]
    }
   ],
   "source": [
    "from brax.training.agents.ppo import networks as ppo_networks\n",
    "from philab_mujoco import locomotion\n",
    "from philab_mujoco import train_params\n",
    "import functools\n",
    "import pickle\n",
    "import jax.numpy as jp\n",
    "import jax\n",
    "import tf2onnx\n",
    "import tensorflow as tf\n",
    "from keras import layers\n",
    "import onnxruntime as rt\n",
    "from brax.training.acme import running_statistics"
   ]
  },
  {
   "cell_type": "code",
   "execution_count": 4,
   "metadata": {},
   "outputs": [
    {
     "name": "stderr",
     "output_type": "stream",
     "text": [
      "W0000 00:00:1753445656.430871  161752 gpu_device.cc:2430] TensorFlow was not built with CUDA kernel binaries compatible with compute capability 12.0. CUDA kernels will be jit-compiled from PTX, which could take 30 minutes or longer.\n"
     ]
    }
   ],
   "source": [
    "tf.config.set_visible_devices([], 'GPU')"
   ]
  },
  {
   "cell_type": "code",
   "execution_count": 5,
   "metadata": {},
   "outputs": [],
   "source": [
    "# ppo_params = locomotion_params.brax_ppo_config(env_name)\n",
    "ppo_params = train_params.brax_ppo_config(env_name)"
   ]
  },
  {
   "cell_type": "code",
   "execution_count": 6,
   "metadata": {},
   "outputs": [],
   "source": [
    "def identity_observation_preprocessor(observation, preprocessor_params):\n",
    "  del preprocessor_params\n",
    "  return observation\n",
    "\n",
    "network_factory=functools.partial(\n",
    "  ppo_networks.make_ppo_networks,\n",
    "  **ppo_params.network_factory,\n",
    "  # We need to explicitly call the normalization function here since only the brax\n",
    "  # PPO train.py script creates it if normalize_observations is True.\n",
    "  preprocess_observations_fn=running_statistics.normalize,\n",
    ")"
   ]
  },
  {
   "cell_type": "code",
   "execution_count": 7,
   "metadata": {},
   "outputs": [],
   "source": [
    "# env_cfg = locomotion.get_default_config(env_name)\n",
    "# env = locomotion.load(env_name, config=env_cfg)\n",
    "env_cfg = locomotion.get_default_config(env_name)\n",
    "env = locomotion.load(env_name, config=env_cfg)"
   ]
  },
  {
   "cell_type": "code",
   "execution_count": 8,
   "metadata": {},
   "outputs": [
    {
     "name": "stdout",
     "output_type": "stream",
     "text": [
      "Observation size: {'privileged_state': (76,), 'state': (31,), 'state_history': (310,)}\n",
      "Action size: 6\n"
     ]
    }
   ],
   "source": [
    "obs_size = env.observation_size\n",
    "act_size = env.action_size\n",
    "# print(obs_size, act_size)\n",
    "\n",
    "print(f\"Observation size: {obs_size}\")\n",
    "print(f\"Action size: {act_size}\")"
   ]
  },
  {
   "cell_type": "code",
   "execution_count": 9,
   "metadata": {},
   "outputs": [],
   "source": [
    "ppo_network = network_factory(obs_size, act_size)"
   ]
  },
  {
   "cell_type": "code",
   "execution_count": 10,
   "metadata": {},
   "outputs": [
    {
     "name": "stdout",
     "output_type": "stream",
     "text": [
      "dict_keys(['normalizer_params', 'policy_params', 'value_params'])\n"
     ]
    }
   ],
   "source": [
    "ckpt_path = ckpt_path + \"/params.pkl\"\n",
    "\n",
    "with open(ckpt_path, 'rb') as f:\n",
    "    params = pickle.load(f)\n",
    "print(params.keys())\n",
    "\n",
    "# Save ONNX to the checkpoint directory\n",
    "output_path = os.path.join(os.path.dirname(ckpt_path), \"policy.onnx\")"
   ]
  },
  {
   "cell_type": "code",
   "execution_count": 11,
   "metadata": {},
   "outputs": [],
   "source": [
    "params = (params[\"normalizer_params\"], params[\"policy_params\"])"
   ]
  },
  {
   "cell_type": "code",
   "execution_count": 12,
   "metadata": {},
   "outputs": [],
   "source": [
    "make_inference_fn = ppo_networks.make_inference_fn(ppo_network)\n",
    "inference_fn = make_inference_fn(params, deterministic=True)"
   ]
  },
  {
   "cell_type": "code",
   "execution_count": 13,
   "metadata": {},
   "outputs": [],
   "source": [
    "class EMLP(tf.keras.Model):\n",
    "    def __init__(\n",
    "        self,\n",
    "        encoder_layer_sizes,\n",
    "        policy_layer_sizes,\n",
    "        activation=tf.nn.relu,\n",
    "        kernel_init=\"lecun_uniform\",\n",
    "        activate_final=False,\n",
    "        bias=True,\n",
    "        layer_norm=False,\n",
    "        mean_std=None,\n",
    "        encoder_mean_std=None,\n",
    "    ):\n",
    "        super().__init__()\n",
    "\n",
    "        self.encoder_layer_sizes = encoder_layer_sizes\n",
    "        self.policy_layer_sizes = policy_layer_sizes\n",
    "        self.activation = activation\n",
    "        self.kernel_init = kernel_init\n",
    "        self.activate_final = activate_final\n",
    "        self.bias = bias\n",
    "        self.layer_norm = layer_norm\n",
    "\n",
    "        # Main observation normalization\n",
    "        if mean_std is not None:\n",
    "            self.mean = tf.Variable(mean_std[0], trainable=False, dtype=tf.float32)\n",
    "            self.std = tf.Variable(mean_std[1], trainable=False, dtype=tf.float32)\n",
    "        else:\n",
    "            self.mean = None\n",
    "            self.std = None\n",
    "\n",
    "        # Encoder observation normalization  \n",
    "        if encoder_mean_std is not None:\n",
    "            self.encoder_mean = tf.Variable(encoder_mean_std[0], trainable=False, dtype=tf.float32)\n",
    "            self.encoder_std = tf.Variable(encoder_mean_std[1], trainable=False, dtype=tf.float32)\n",
    "        else:\n",
    "            self.encoder_mean = None\n",
    "            self.encoder_std = None\n",
    "\n",
    "        # Build encoder MLP (MLP_0 in JAX)\n",
    "        self.encoder_block = tf.keras.Sequential(name=\"MLP_0\")\n",
    "        for i, size in enumerate(self.encoder_layer_sizes):\n",
    "            dense_layer = layers.Dense(\n",
    "                size,\n",
    "                activation=self.activation,  # Apply activation to all encoder layers\n",
    "                kernel_initializer=self.kernel_init,\n",
    "                name=f\"hidden_{i}\",\n",
    "                use_bias=self.bias,\n",
    "            )\n",
    "            self.encoder_block.add(dense_layer)\n",
    "            if self.layer_norm:\n",
    "                self.encoder_block.add(layers.LayerNormalization(name=f\"encoder_layer_norm_{i}\"))\n",
    "\n",
    "        # Build policy MLP (MLP_1 in JAX)\n",
    "        self.policy_block = tf.keras.Sequential(name=\"MLP_1\")\n",
    "        for i, size in enumerate(self.policy_layer_sizes):\n",
    "            # Apply activation except to final layer if activate_final=False\n",
    "            if i == len(self.policy_layer_sizes) - 1 and not self.activate_final:\n",
    "                activation_fn = None\n",
    "            else:\n",
    "                activation_fn = self.activation\n",
    "                \n",
    "            dense_layer = layers.Dense(\n",
    "                size,\n",
    "                activation=activation_fn,\n",
    "                kernel_initializer=self.kernel_init,\n",
    "                name=f\"hidden_{i}\",\n",
    "                use_bias=self.bias,\n",
    "            )\n",
    "            self.policy_block.add(dense_layer)\n",
    "            if self.layer_norm:\n",
    "                self.policy_block.add(layers.LayerNormalization(name=f\"policy_layer_norm_{i}\"))\n",
    "\n",
    "        self.submodules = [self.encoder_block, self.policy_block]\n",
    "\n",
    "    def call(self, inputs):\n",
    "        if isinstance(inputs, list):\n",
    "            if len(inputs) == 2:\n",
    "                main_obs, encoder_obs = inputs\n",
    "            else:\n",
    "                main_obs = inputs[0]\n",
    "                encoder_obs = None\n",
    "        else:\n",
    "            main_obs = inputs\n",
    "            encoder_obs = None\n",
    "        \n",
    "        # Normalize main observation\n",
    "        if self.mean is not None and self.std is not None:\n",
    "            main_obs = (main_obs - self.mean) / self.std\n",
    "        \n",
    "        # Normalize and encode state_history\n",
    "        if encoder_obs is not None and self.encoder_mean is not None and self.encoder_std is not None:\n",
    "            encoder_obs = (encoder_obs - self.encoder_mean) / self.encoder_std\n",
    "            encoded_features = self.encoder_block(encoder_obs)\n",
    "            \n",
    "            # Concatenate main_obs with encoded features\n",
    "            combined_input = tf.concat([main_obs, encoded_features], axis=-1)\n",
    "        else:\n",
    "            combined_input = main_obs\n",
    "        \n",
    "        # Pass through policy MLP\n",
    "        logits = self.policy_block(combined_input)\n",
    "        loc, _ = tf.split(logits, 2, axis=-1)\n",
    "        return tf.tanh(loc)\n",
    "\n",
    "def make_policy_network(\n",
    "    param_size,\n",
    "    mean_std,\n",
    "    encoder_mean_std,\n",
    "    encoder_layer_sizes,\n",
    "    policy_layer_sizes,\n",
    "    activation=tf.nn.relu,\n",
    "    kernel_init=\"lecun_uniform\",\n",
    "    layer_norm=False,\n",
    "):\n",
    "    # Convert to list and add param_size\n",
    "    policy_sizes = list(policy_layer_sizes) + [param_size]\n",
    "    \n",
    "    policy_network = EMLP(\n",
    "        encoder_layer_sizes=encoder_layer_sizes,\n",
    "        policy_layer_sizes=policy_sizes,\n",
    "        activation=activation,\n",
    "        kernel_init=kernel_init,\n",
    "        activate_final=False,\n",
    "        layer_norm=layer_norm,\n",
    "        mean_std=mean_std,\n",
    "        encoder_mean_std=encoder_mean_std,\n",
    "    )\n",
    "    return policy_network"
   ]
  },
  {
   "cell_type": "code",
   "execution_count": 14,
   "metadata": {},
   "outputs": [],
   "source": [
    "# Configure EMLP network parameters\n",
    "encoder_obs_key = getattr(ppo_params.network_factory, 'encoder_obs_key', 'state_history')\n",
    "\n",
    "# Get normalization parameters for both observations\n",
    "main_mean = params[0].mean[\"state\"]\n",
    "main_std = params[0].std[\"state\"]\n",
    "main_mean_std = (tf.convert_to_tensor(main_mean), tf.convert_to_tensor(main_std))\n",
    "\n",
    "encoder_mean = params[0].mean[encoder_obs_key]\n",
    "encoder_std = params[0].std[encoder_obs_key]\n",
    "encoder_mean_std = (tf.convert_to_tensor(encoder_mean), tf.convert_to_tensor(encoder_std))\n",
    "\n",
    "# Network architecture: MLP_0 (encoder) + MLP_1 (policy)\n",
    "encoder_layer_sizes = (128, 64, 16)  # MLP_0 sizes  \n",
    "policy_layer_sizes = (512, 256, 128)  # MLP_1 sizes (excluding final layer)\n",
    "\n",
    "tf_policy_network = make_policy_network(\n",
    "    param_size=act_size * 2,\n",
    "    mean_std=main_mean_std,\n",
    "    encoder_mean_std=encoder_mean_std,\n",
    "    encoder_layer_sizes=encoder_layer_sizes,\n",
    "    policy_layer_sizes=policy_layer_sizes,\n",
    "    activation=tf.nn.swish,\n",
    ")"
   ]
  },
  {
   "cell_type": "code",
   "execution_count": 15,
   "metadata": {},
   "outputs": [
    {
     "name": "stdout",
     "output_type": "stream",
     "text": [
      "EMLP output shape: (1, 6)\n",
      "Input sizes - Main obs: 31, Encoder obs: 310\n"
     ]
    }
   ],
   "source": [
    "# Create EMLP test inputs\n",
    "encoder_obs_key = getattr(ppo_params.network_factory, 'encoder_obs_key', 'state_history')\n",
    "encoder_obs_size = obs_size[encoder_obs_key][0]\n",
    "\n",
    "main_obs_input = tf.zeros((1, obs_size[\"state\"][0]))\n",
    "encoder_obs_input = tf.zeros((1, encoder_obs_size))\n",
    "\n",
    "example_input = [main_obs_input, encoder_obs_input]\n",
    "example_output = tf_policy_network(example_input)\n",
    "\n",
    "print(f\"EMLP output shape: {example_output.shape}\")\n",
    "print(f\"Input sizes - Main obs: {obs_size['state'][0]}, Encoder obs: {encoder_obs_size}\")"
   ]
  },
  {
   "cell_type": "code",
   "execution_count": 16,
   "metadata": {},
   "outputs": [],
   "source": [
    "import numpy as np\n",
    "import tensorflow as tf\n",
    "\n",
    "def transfer_weights(jax_params, tf_model):\n",
    "    \"\"\"Transfer weights from JAX EMLP (MLP_0 + MLP_1) to TensorFlow EMLP.\"\"\"\n",
    "    \n",
    "    # Transfer MLP_0 (encoder) weights\n",
    "    if 'MLP_0' in jax_params:\n",
    "        mlp0_params = jax_params['MLP_0']\n",
    "        for layer_name, layer_params in mlp0_params.items():\n",
    "            tf_layer = tf_model.get_layer(\"MLP_0\").get_layer(name=layer_name)\n",
    "            kernel = np.array(layer_params['kernel'])\n",
    "            bias = np.array(layer_params['bias'])\n",
    "            tf_layer.set_weights([kernel, bias])\n",
    "    \n",
    "    # Transfer MLP_1 (policy) weights\n",
    "    if 'MLP_1' in jax_params:\n",
    "        mlp1_params = jax_params['MLP_1']\n",
    "        for layer_name, layer_params in mlp1_params.items():\n",
    "            tf_layer = tf_model.get_layer(\"MLP_1\").get_layer(name=layer_name)\n",
    "            kernel = np.array(layer_params['kernel'])\n",
    "            bias = np.array(layer_params['bias'])\n",
    "            tf_layer.set_weights([kernel, bias])\n",
    "\n",
    "    print(\"EMLP weights transferred successfully.\")"
   ]
  },
  {
   "cell_type": "code",
   "execution_count": 17,
   "metadata": {},
   "outputs": [
    {
     "name": "stdout",
     "output_type": "stream",
     "text": [
      "EMLP weights transferred successfully.\n"
     ]
    }
   ],
   "source": [
    "# Transfer weights from JAX to TensorFlow model\n",
    "transfer_weights(params[1]['params'], tf_policy_network)"
   ]
  },
  {
   "cell_type": "code",
   "execution_count": 18,
   "metadata": {},
   "outputs": [
    {
     "name": "stdout",
     "output_type": "stream",
     "text": [
      "TensorFlow prediction: [ 0.27703953  0.0326834   0.42464632 -0.16951813 -0.27895322  0.32647243]\n"
     ]
    },
    {
     "name": "stderr",
     "output_type": "stream",
     "text": [
      "I0000 00:00:1753445658.754604  161752 devices.cc:67] Number of eligible GPUs (core count >= 8, compute capability >= 0.0): 1\n",
      "WARNING: All log messages before absl::InitializeLog() is called are written to STDERR\n",
      "I0000 00:00:1753445658.754721  161752 single_machine.cc:374] Starting new session\n",
      "W0000 00:00:1753445658.757322  161752 gpu_device.cc:2430] TensorFlow was not built with CUDA kernel binaries compatible with compute capability 12.0. CUDA kernels will be jit-compiled from PTX, which could take 30 minutes or longer.\n",
      "I0000 00:00:1753445658.762436  161752 gpu_device.cc:2019] Created device /job:localhost/replica:0/task:0/device:GPU:0 with 98 MB memory:  -> device: 0, name: NVIDIA GeForce RTX 5080, pci bus id: 0000:01:00.0, compute capability: 12.0\n",
      "I0000 00:00:1753445658.834099  161752 devices.cc:67] Number of eligible GPUs (core count >= 8, compute capability >= 0.0): 1\n",
      "I0000 00:00:1753445658.834217  161752 single_machine.cc:374] Starting new session\n",
      "W0000 00:00:1753445658.837038  161752 gpu_device.cc:2430] TensorFlow was not built with CUDA kernel binaries compatible with compute capability 12.0. CUDA kernels will be jit-compiled from PTX, which could take 30 minutes or longer.\n",
      "I0000 00:00:1753445658.838718  161752 gpu_device.cc:2019] Created device /job:localhost/replica:0/task:0/device:GPU:0 with 98 MB memory:  -> device: 0, name: NVIDIA GeForce RTX 5080, pci bus id: 0000:01:00.0, compute capability: 12.0\n",
      "ERROR:tf2onnx.tfonnx:rewriter <function rewrite_constant_fold at 0x75c6462f3ba0>: exception `np.cast` was removed in the NumPy 2.0 release. Use `np.asarray(arr, dtype=dtype)` instead.\n"
     ]
    }
   ],
   "source": [
    "# Create test inputs and export to ONNX\n",
    "encoder_obs_key = getattr(ppo_params.network_factory, 'encoder_obs_key', 'state_history')\n",
    "encoder_obs_size = obs_size[encoder_obs_key][0]\n",
    "\n",
    "# Test with specific values\n",
    "main_obs_test = np.ones((1, obs_size[\"state\"][0]), dtype=np.float32)\n",
    "encoder_obs_test = np.ones((1, encoder_obs_size), dtype=np.float32)\n",
    "\n",
    "test_input = [main_obs_test, encoder_obs_test]\n",
    "tensorflow_pred = tf_policy_network(test_input)[0]\n",
    "print(f\"TensorFlow prediction: {tensorflow_pred}\")\n",
    "\n",
    "# Define input signature for ONNX export\n",
    "spec = [\n",
    "    tf.TensorSpec(shape=(1, obs_size[\"state\"][0]), dtype=tf.float32, name=\"obs\"),\n",
    "    tf.TensorSpec(shape=(1, encoder_obs_size), dtype=tf.float32, name=\"obs_history\")\n",
    "]\n",
    "\n",
    "tf_policy_network.output_names = ['action']\n",
    "\n",
    "# Export to ONNX\n",
    "model_proto, _ = tf2onnx.convert.from_keras(tf_policy_network, input_signature=spec, opset=11, output_path=output_path)"
   ]
  },
  {
   "cell_type": "code",
   "execution_count": 19,
   "metadata": {},
   "outputs": [
    {
     "name": "stdout",
     "output_type": "stream",
     "text": [
      "ONNX prediction: [ 0.27703884  0.03268318  0.42464593 -0.16951776 -0.27895248  0.32647192]\n",
      "TensorFlow vs ONNX difference: 7.45e-07\n"
     ]
    }
   ],
   "source": [
    "# Test ONNX Runtime inference\n",
    "output_names = ['action']\n",
    "providers = ['CPUExecutionProvider']\n",
    "m = rt.InferenceSession(output_path, providers=providers)\n",
    "\n",
    "onnx_input = {\n",
    "    'obs': main_obs_test,\n",
    "    'obs_history': encoder_obs_test\n",
    "}\n",
    "\n",
    "onnx_pred = m.run(output_names, onnx_input)[0][0]\n",
    "print(\"ONNX prediction:\", onnx_pred)\n",
    "\n",
    "# Verify TensorFlow vs ONNX match\n",
    "print(f\"TensorFlow vs ONNX difference: {np.abs(tensorflow_pred - onnx_pred).max():.2e}\")"
   ]
  },
  {
   "cell_type": "code",
   "execution_count": 20,
   "metadata": {},
   "outputs": [
    {
     "name": "stdout",
     "output_type": "stream",
     "text": [
      "JAX prediction: [ 0.27703908  0.0326834   0.42464608 -0.16951795 -0.27895278  0.32647213]\n",
      "\n",
      "=== Final Verification ===\n",
      "JAX vs TensorFlow difference: 4.47e-07\n",
      "JAX vs ONNX difference: 2.98e-07\n",
      "✅ EMLP export successful - predictions match!\n"
     ]
    }
   ],
   "source": [
    "# Verify JAX vs TensorFlow/ONNX predictions match\n",
    "encoder_obs_key = getattr(ppo_params.network_factory, 'encoder_obs_key', 'state_history')\n",
    "\n",
    "test_input = {\n",
    "    'state': jp.array(main_obs_test[0]),\n",
    "    'privileged_state': jp.zeros(obs_size[\"privileged_state\"]),\n",
    "    encoder_obs_key: jp.array(encoder_obs_test[0])\n",
    "}\n",
    "\n",
    "jax_pred, _ = inference_fn(test_input, jax.random.PRNGKey(0))\n",
    "print(f\"JAX prediction: {jax_pred}\")\n",
    "\n",
    "# Compare all predictions\n",
    "print(f\"\\n=== Final Verification ===\")\n",
    "print(f\"JAX vs TensorFlow difference: {np.abs(jax_pred - tensorflow_pred).max():.2e}\")\n",
    "print(f\"JAX vs ONNX difference: {np.abs(jax_pred - onnx_pred).max():.2e}\")\n",
    "\n",
    "if np.abs(jax_pred - tensorflow_pred).max() < 1e-5:\n",
    "    print(\"✅ EMLP export successful - predictions match!\")"
   ]
  },
  {
   "cell_type": "code",
   "execution_count": 21,
   "metadata": {},
   "outputs": [
    {
     "name": "stdout",
     "output_type": "stream",
     "text": [
      "Output shapes:\n",
      "  ONNX: (6,)\n",
      "  TensorFlow: (6,)\n",
      "  JAX: (6,)\n"
     ]
    },
    {
     "data": {
      "image/png": "[encoded data removed]",
      "text/plain": [
       "<Figure size 1000x600 with 1 Axes>"
      ]
     },
     "metadata": {},
     "output_type": "display_data"
    },
    {
     "name": "stdout",
     "output_type": "stream",
     "text": [
      "\n",
      "Numerical comparison:\n",
      "Action 0: JAX=0.277039, TF=0.277040, ONNX=0.277039\n",
      "  |JAX-TF|=0.00000045, |JAX-ONNX|=0.00000024\n",
      "Action 1: JAX=0.032683, TF=0.032683, ONNX=0.032683\n",
      "  |JAX-TF|=0.00000000, |JAX-ONNX|=0.00000022\n",
      "Action 2: JAX=0.424646, TF=0.424646, ONNX=0.424646\n",
      "  |JAX-TF|=0.00000024, |JAX-ONNX|=0.00000015\n",
      "Action 3: JAX=-0.169518, TF=-0.169518, ONNX=-0.169518\n",
      "  |JAX-TF|=0.00000018, |JAX-ONNX|=0.00000019\n",
      "Action 4: JAX=-0.278953, TF=-0.278953, ONNX=-0.278952\n",
      "  |JAX-TF|=0.00000045, |JAX-ONNX|=0.00000030\n",
      "Action 5: JAX=0.326472, TF=0.326472, ONNX=0.326472\n",
      "  |JAX-TF|=0.00000030, |JAX-ONNX|=0.00000021\n"
     ]
    }
   ],
   "source": [
    "import matplotlib.pyplot as plt\n",
    "\n",
    "print(f\"Output shapes:\")\n",
    "print(f\"  ONNX: {onnx_pred.shape}\")\n",
    "print(f\"  TensorFlow: {tensorflow_pred.shape}\")\n",
    "print(f\"  JAX: {jax_pred.shape}\")\n",
    "\n",
    "plt.figure(figsize=(10, 6))\n",
    "plt.plot(onnx_pred, 'o-', label='ONNX', alpha=0.7)\n",
    "plt.plot(tensorflow_pred, 's-', label='TensorFlow', alpha=0.7)  \n",
    "plt.plot(jax_pred, '^-', label='JAX', alpha=0.7)\n",
    "plt.xlabel('Action Index')\n",
    "plt.ylabel('Action Value')\n",
    "plt.title('EMLP Policy Predictions Comparison')\n",
    "plt.legend()\n",
    "plt.grid(True, alpha=0.3)\n",
    "plt.show()\n",
    "\n",
    "# Print numerical comparison\n",
    "print(f\"\\nNumerical comparison:\")\n",
    "for i in range(len(jax_pred)):\n",
    "    print(f\"Action {i}: JAX={jax_pred[i]:.6f}, TF={tensorflow_pred[i]:.6f}, ONNX={onnx_pred[i]:.6f}\")\n",
    "    print(f\"  |JAX-TF|={abs(jax_pred[i] - tensorflow_pred[i]):.8f}, |JAX-ONNX|={abs(jax_pred[i] - onnx_pred[i]):.8f}\")"
   ]
  },
  {
   "cell_type": "code",
   "execution_count": 22,
   "metadata": {},
   "outputs": [
    {
     "name": "stdout",
     "output_type": "stream",
     "text": [
      "Adding model name: TronPfJoystick-20250725-053551\n",
      "Model name 'TronPfJoystick-20250725-053551' added to ONNX file\n"
     ]
    }
   ],
   "source": [
    "import onnx\n",
    "\n",
    "# Extract checkpoint name from path\n",
    "checkpoint_name = os.path.basename(os.path.dirname(ckpt_path))\n",
    "print(f\"Adding model name: {checkpoint_name}\")\n",
    "\n",
    "# Load the ONNX model\n",
    "model = onnx.load(output_path)\n",
    "\n",
    "# Add the checkpoint name as model metadata\n",
    "model.metadata_props.append(onnx.StringStringEntryProto(key=\"name\", value=checkpoint_name))\n",
    "model.doc_string = checkpoint_name\n",
    "\n",
    "# Save the updated model\n",
    "onnx.save(model, output_path)\n",
    "print(f\"Model name '{checkpoint_name}' added to ONNX file\")"
   ]
  }
 ],
 "metadata": {
  "kernelspec": {
   "display_name": "mujoco",
   "language": "python",
   "name": "python3"
  },
  "language_info": {
   "codemirror_mode": {
    "name": "ipython",
    "version": 3
   },
   "file_extension": ".py",
   "mimetype": "text/x-python",
   "name": "python",
   "nbconvert_exporter": "python",
   "pygments_lexer": "ipython3",
   "version": "3.11.13"
  }
 },
 "nbformat": 4,
 "nbformat_minor": 2
}
